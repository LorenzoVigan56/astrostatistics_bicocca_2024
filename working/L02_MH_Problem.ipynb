{
 "cells": [
  {
   "cell_type": "markdown",
   "id": "226387b5",
   "metadata": {},
   "source": [
    "MONTY HALL PROBLEM"
   ]
  },
  {
   "cell_type": "code",
   "execution_count": 1,
   "id": "af49bb11",
   "metadata": {},
   "outputs": [],
   "source": [
    "import numpy as np\n",
    "import random as rm"
   ]
  },
  {
   "cell_type": "markdown",
   "id": "7f51f060",
   "metadata": {},
   "source": [
    "Conservative"
   ]
  },
  {
   "cell_type": "code",
   "execution_count": 2,
   "id": "a44706bc",
   "metadata": {},
   "outputs": [
    {
     "name": "stdout",
     "output_type": "stream",
     "text": [
      "Initial situation:\n",
      "[0, 1, 0]\n",
      "The player chose 1\n",
      "The presenter takes away one priceless door:\n",
      "[1, 0]\n",
      "You won!\n"
     ]
    }
   ],
   "source": [
    "doors = [0, 0, 1]\n",
    "rm.shuffle(doors)    \n",
    "print('Initial situation:')\n",
    "print(doors)\n",
    "#The player chooses one of the three doors.\n",
    "#The presenter choose one door with the goat, then the player confirms its choice.\n",
    "\n",
    "choice = rm.choice(doors)\n",
    "print('The player chose' \" \" + str(choice))\n",
    "\n",
    "for i in range(2):\n",
    "    if doors[i] == 0:\n",
    "        del doors[i]\n",
    "        break\n",
    "    elif doors[i] == 1:\n",
    "        continue\n",
    "print('The presenter takes away one priceless door:')\n",
    "print(doors)\n",
    "\n",
    "if choice == 0:\n",
    "    print(\"You lose!\")\n",
    "elif choice == 1:\n",
    "    print (\"You won!\")"
   ]
  },
  {
   "cell_type": "markdown",
   "id": "3c2c453d",
   "metadata": {},
   "source": [
    "Switcher"
   ]
  },
  {
   "cell_type": "code",
   "execution_count": 3,
   "id": "f13e730a",
   "metadata": {},
   "outputs": [
    {
     "name": "stdout",
     "output_type": "stream",
     "text": [
      "Initial situation:\n",
      "[0, 1, 0]\n",
      "The player chose 0\n",
      "The presenter takes away one priceless door:\n",
      "[1, 0]\n",
      "The player switches its choice\n",
      "You won!\n"
     ]
    }
   ],
   "source": [
    "doors = [0, 0, 1]\n",
    "rm.shuffle(doors)    \n",
    "print('Initial situation:')\n",
    "print(doors)\n",
    "\n",
    "#The player chooses one of the three doors.\n",
    "#The presenter choose one door with the goat, then the player switches its choice.\n",
    "\n",
    "choice = rm.choice(doors)\n",
    "print('The player chose' \" \" + str(choice))\n",
    "\n",
    "for i in range(2):\n",
    "    if doors[i] == 0:\n",
    "        del doors[i]\n",
    "        break\n",
    "    elif doors[i] == 1:\n",
    "        continue\n",
    "print('The presenter takes away one priceless door:')\n",
    "print(doors)\n",
    "\n",
    "print('The player switches its choice')\n",
    "\n",
    "if choice == 0:\n",
    "    choice == 1\n",
    "    print(\"You won!\")\n",
    "elif choice == 1:\n",
    "    choice == 0\n",
    "    print (\"You lose!\")"
   ]
  },
  {
   "cell_type": "markdown",
   "id": "53abe892",
   "metadata": {},
   "source": [
    "Newcomer"
   ]
  },
  {
   "cell_type": "code",
   "execution_count": 4,
   "id": "48d13fa3",
   "metadata": {},
   "outputs": [
    {
     "name": "stdout",
     "output_type": "stream",
     "text": [
      "Initial situation:\n",
      "[1, 0, 0]\n",
      "The presenter takes away one priceless door:\n",
      "[1, 0]\n",
      "The player chose 1\n",
      "You won!\n"
     ]
    }
   ],
   "source": [
    "doors = [0, 0, 1]\n",
    "rm.shuffle(doors)    \n",
    "print('Initial situation:')\n",
    "print(doors)\n",
    "\n",
    "#The presenter choose one door with the goat, then a new player choose one between the remaining doors.\n",
    "\n",
    "for i in range(2):\n",
    "    if doors[i] == 0:\n",
    "        del doors[i]\n",
    "        break\n",
    "    elif doors[i] == 1:\n",
    "        continue\n",
    "print('The presenter takes away one priceless door:')\n",
    "print(doors)\n",
    "\n",
    "choice = rm.choice(doors)\n",
    "print('The player chose' \" \" + str(choice))\n",
    "\n",
    "if choice == 0:\n",
    "    print(\"You lose!\")\n",
    "elif choice == 1:\n",
    "    print (\"You won!\")"
   ]
  },
  {
   "cell_type": "markdown",
   "id": "341748f2",
   "metadata": {},
   "source": [
    "Conservative + repetition"
   ]
  },
  {
   "cell_type": "code",
   "execution_count": 5,
   "id": "ca678f84",
   "metadata": {},
   "outputs": [
    {
     "name": "stdout",
     "output_type": "stream",
     "text": [
      "35\n",
      "The conservative has a win rate of 35.0%\n"
     ]
    }
   ],
   "source": [
    "reps = 100\n",
    "wins = 0\n",
    "\n",
    "for _ in range(reps):\n",
    "    \n",
    "    doors = [0, 0, 1]\n",
    "    rm.shuffle(doors)    \n",
    "    #print('Initial situation:')\n",
    "    #print(doors)\n",
    "#The player chooses one of the three doors.\n",
    "#The presenter choose one door with the goat, then the player confirms its choice.\n",
    "\n",
    "    choice = rm.choice(doors)\n",
    "    #print('The player chose' \" \" + str(choice))\n",
    "\n",
    "    for i in range(2):\n",
    "        if doors[i] == 0:\n",
    "            del doors[i]\n",
    "            break\n",
    "        elif doors[i] == 1:\n",
    "            continue\n",
    "    #print('The presenter takes away one priceless door:')\n",
    "    #print(doors)\n",
    "\n",
    "    #if choice == 0:\n",
    "        #print(\"You lose!\")\n",
    "    if choice == 1:\n",
    "        #print (\"You won!\")\n",
    "        wins = wins + 1\n",
    "        \n",
    "print(wins)\n",
    "\n",
    "#i compute the win rate\n",
    "win_rate = (wins / reps) * 100\n",
    "print(f'The conservative has a win rate of {win_rate}%')"
   ]
  },
  {
   "cell_type": "markdown",
   "id": "963981a5",
   "metadata": {},
   "source": [
    "Switcher + repetition"
   ]
  },
  {
   "cell_type": "code",
   "execution_count": 6,
   "id": "45b70692",
   "metadata": {},
   "outputs": [
    {
     "name": "stdout",
     "output_type": "stream",
     "text": [
      "61\n",
      "The switcher has a win rate of 61.0%\n"
     ]
    }
   ],
   "source": [
    "reps = 100\n",
    "wins = 0\n",
    "\n",
    "for _ in range(reps):\n",
    "\n",
    "    doors = [0, 0, 1]\n",
    "    rm.shuffle(doors)    \n",
    "    #print('Initial situation:')\n",
    "    #print(doors)\n",
    "\n",
    "#The player chooses one of the three doors.\n",
    "#The presenter choose one door with the goat, then the player switches its choice.\n",
    "\n",
    "    choice = rm.choice(doors)\n",
    "    #print('The player chose' \" \" + str(choice))\n",
    "\n",
    "    for i in range(2):\n",
    "        if doors[i] == 0:\n",
    "            del doors[i]\n",
    "            break\n",
    "        elif doors[i] == 1:\n",
    "            continue\n",
    "    #print('The presenter takes away one priceless door:')\n",
    "    #print(doors)\n",
    "\n",
    "#print('The player switches its choice')\n",
    "\n",
    "    if choice == 0:\n",
    "        choice == 1\n",
    "        #print(\"You won!\")\n",
    "        wins = wins + 1\n",
    "    elif choice == 1:\n",
    "        choice == 0\n",
    "        #print (\"You lose!\")\n",
    "\n",
    "print(wins)\n",
    "\n",
    "#i compute the win rate\n",
    "win_rate = (wins / reps) * 100\n",
    "print(f'The switcher has a win rate of {win_rate}%')"
   ]
  },
  {
   "cell_type": "markdown",
   "id": "6962b00e",
   "metadata": {},
   "source": [
    "Newcomer + repetition"
   ]
  },
  {
   "cell_type": "code",
   "execution_count": 7,
   "id": "3db177ce",
   "metadata": {},
   "outputs": [
    {
     "name": "stdout",
     "output_type": "stream",
     "text": [
      "43\n",
      "The newcomer has a win rate of 43.0%\n"
     ]
    }
   ],
   "source": [
    "reps = 100\n",
    "wins = 0\n",
    "\n",
    "for _ in range(reps):\n",
    "\n",
    "    doors = [0, 0, 1]\n",
    "    rm.shuffle(doors)    \n",
    "    #print('Initial situation:')\n",
    "    #print(doors)\n",
    "\n",
    "#The presenter choose one door with the goat, then a new player choose one between the remaining doors.\n",
    "\n",
    "    for i in range(2):\n",
    "        if doors[i] == 0:\n",
    "            del doors[i]\n",
    "            break\n",
    "        elif doors[i] == 1:\n",
    "            continue\n",
    "    #print('The presenter takes away one priceless door:')\n",
    "    #print(doors)\n",
    "\n",
    "    choice = rm.choice(doors)\n",
    "    #print('The player chose' \" \" + str(choice))\n",
    "\n",
    "    #if choice == 0:\n",
    "        #print(\"You lose!\")\n",
    "    if choice == 1:\n",
    "        #print (\"You won!\")\n",
    "        wins = wins + 1\n",
    "        \n",
    "print(wins)\n",
    "\n",
    "#i compute the win rate\n",
    "win_rate = (wins / reps) * 100\n",
    "print(f'The newcomer has a win rate of {win_rate}%')"
   ]
  },
  {
   "cell_type": "markdown",
   "id": "69a21275",
   "metadata": {},
   "source": [
    "All togheter"
   ]
  },
  {
   "cell_type": "code",
   "execution_count": 8,
   "id": "41ef8d85",
   "metadata": {},
   "outputs": [
    {
     "name": "stdout",
     "output_type": "stream",
     "text": [
      "The conservative has a win rate of 33.0%\n",
      "The switcher has a win rate of 64.0%\n",
      "The newcomer has a win rate of 56.00000000000001%\n"
     ]
    }
   ],
   "source": [
    "reps = 100\n",
    "wins1 = 0\n",
    "wins2 = 0\n",
    "wins3 = 0\n",
    "\n",
    "for _ in range(reps):\n",
    "    \n",
    "#   --- CONSERVATIVE ---\n",
    "    \n",
    "    doors1 = [0, 0, 1]\n",
    "    rm.shuffle(doors1)    \n",
    "    #print('Initial situation:')\n",
    "    #print(doors)\n",
    "#The player chooses one of the three doors.\n",
    "#The presenter choose one door with the goat, then the player confirms its choice.\n",
    "\n",
    "    choice1 = rm.choice(doors1)\n",
    "    #print('The player chose' \" \" + str(choice))\n",
    "\n",
    "    for i in range(2):\n",
    "        if doors1[i] == 0:\n",
    "            del doors1[i]\n",
    "            break\n",
    "        elif doors1[i] == 1:\n",
    "            continue\n",
    "    #print('The presenter takes away one priceless door:')\n",
    "    #print(doors)\n",
    "\n",
    "    #if choice == 0:\n",
    "        #print(\"You lose!\")\n",
    "    if choice1 == 1:\n",
    "        #print (\"You won!\")\n",
    "        wins1 = wins1 + 1\n",
    "        \n",
    "#   --- SWITCHER ---\n",
    "        \n",
    "    doors2 = [0, 0, 1]\n",
    "    rm.shuffle(doors2)    \n",
    "    #print('Initial situation:')\n",
    "    #print(doors)\n",
    "\n",
    "#The player chooses one of the three doors.\n",
    "#The presenter choose one door with the goat, then the player switches its choice.\n",
    "\n",
    "    choice2 = rm.choice(doors2)\n",
    "    #print('The player chose' \" \" + str(choice))\n",
    "\n",
    "    for i in range(2):\n",
    "        if doors2[i] == 0:\n",
    "            del doors2[i]\n",
    "            break\n",
    "        elif doors2[i] == 1:\n",
    "            continue\n",
    "    #print('The presenter takes away one priceless door:')\n",
    "    #print(doors)\n",
    "\n",
    "#print('The player switches its choice')\n",
    "\n",
    "    if choice2 == 0:\n",
    "        choice2 == 1\n",
    "        #print(\"You won!\")\n",
    "        wins2 = wins2 + 1\n",
    "    elif choice2 == 1:\n",
    "        choice2 == 0\n",
    "        #print (\"You lose!\")\n",
    "        \n",
    "#   --- NEWCOMER ---\n",
    "        \n",
    "    doors3 = [0, 0, 1]\n",
    "    rm.shuffle(doors3)    \n",
    "    #print('Initial situation:')\n",
    "    #print(doors)\n",
    "\n",
    "#The presenter choose one door with the goat, then a new player choose one between the remaining doors.\n",
    "\n",
    "    for i in range(2):\n",
    "        if doors3[i] == 0:\n",
    "            del doors3[i]\n",
    "            break\n",
    "        elif doors3[i] == 1:\n",
    "            continue\n",
    "    #print('The presenter takes away one priceless door:')\n",
    "    #print(doors)\n",
    "\n",
    "    choice3 = rm.choice(doors3)\n",
    "    #print('The player chose' \" \" + str(choice))\n",
    "\n",
    "    #if choice == 0:\n",
    "        #print(\"You lose!\")\n",
    "    if choice3 == 1:\n",
    "        #print (\"You won!\")\n",
    "        wins3 = wins3 + 1\n",
    "\n",
    "#i compute the win rate\n",
    "win_rate1 = (wins1 / reps) * 100\n",
    "print(f'The conservative has a win rate of {win_rate1}%')\n",
    "win_rate2 = (wins2 / reps) * 100\n",
    "print(f'The switcher has a win rate of {win_rate2}%')\n",
    "win_rate3 = (wins3 / reps) * 100\n",
    "print(f'The newcomer has a win rate of {win_rate3}%')"
   ]
  },
  {
   "cell_type": "markdown",
   "id": "826e9e5f",
   "metadata": {},
   "source": [
    "What if you had $N$ doors to choose from and the presenter opens $M <= N - 2$ of them? Study how the probability of winning changes as a function of $M$ and $N$. "
   ]
  },
  {
   "cell_type": "code",
   "execution_count": 9,
   "id": "554aeb43",
   "metadata": {},
   "outputs": [
    {
     "name": "stdout",
     "output_type": "stream",
     "text": [
      "102 out of 10000\n",
      "1.02%\n"
     ]
    }
   ],
   "source": [
    "#CONSERVATIVE\n",
    "reps = 10000\n",
    "wins_cons = 0\n",
    "\n",
    "for _ in range(reps):\n",
    "    N = 100\n",
    "    M = rm.randint(0, N - 2)\n",
    "\n",
    "    Doors = np.zeros(shape=N)\n",
    "    #Opened = np.zeros(shape=M)\n",
    "    #print(M)\n",
    "    Doors[0] = 1\n",
    "    for i in range(N-1):\n",
    "        Doors[i+1] = 0\n",
    "    rm.shuffle(Doors)\n",
    "    #print(Doors)\n",
    "\n",
    "    choice_cons = rm.choice(Doors)\n",
    "    #print(choice_cons)\n",
    "\n",
    "    for _ in range(M):\n",
    "        for i in range(N):\n",
    "            if Doors[i] == 0:\n",
    "                Doors = np.concatenate((Doors[:i], Doors[i+1:]))\n",
    "                break\n",
    "            elif Doors[i] == 1:\n",
    "                continue\n",
    "    #print(Doors)\n",
    "\n",
    "    if choice_cons == 1:\n",
    "        #print('Win')\n",
    "        wins_cons = wins_cons + 1\n",
    "    #elif choice_cons == 0:\n",
    "        #print('Loss')\n",
    "\n",
    "print(str(wins_cons) + \" \" 'out of' \" \" + str(reps))\n",
    "print(f'{(wins_cons / reps) * 100}%')"
   ]
  },
  {
   "cell_type": "code",
   "execution_count": 17,
   "id": "e343eac2",
   "metadata": {},
   "outputs": [],
   "source": [
    "import matplotlib.pyplot as plt"
   ]
  },
  {
   "cell_type": "code",
   "execution_count": 19,
   "id": "0a80f25a",
   "metadata": {},
   "outputs": [
    {
     "ename": "ValueError",
     "evalue": "x and y must have same first dimension, but have shapes (50,) and (1,)",
     "output_type": "error",
     "traceback": [
      "\u001b[1;31m---------------------------------------------------------------------------\u001b[0m",
      "\u001b[1;31mValueError\u001b[0m                                Traceback (most recent call last)",
      "Input \u001b[1;32mIn [19]\u001b[0m, in \u001b[0;36m<cell line: 3>\u001b[1;34m()\u001b[0m\n\u001b[0;32m      1\u001b[0m \u001b[38;5;66;03m#probability of winning as a function of M and N\u001b[39;00m\n\u001b[0;32m      2\u001b[0m M_lin \u001b[38;5;241m=\u001b[39m np\u001b[38;5;241m.\u001b[39mlinspace(\u001b[38;5;241m0\u001b[39m, N\u001b[38;5;241m-\u001b[39m\u001b[38;5;241m2\u001b[39m)\n\u001b[1;32m----> 3\u001b[0m \u001b[43mplt\u001b[49m\u001b[38;5;241;43m.\u001b[39;49m\u001b[43mplot\u001b[49m\u001b[43m(\u001b[49m\u001b[43mM_lin\u001b[49m\u001b[43m,\u001b[49m\u001b[43m \u001b[49m\u001b[43mwins_cons\u001b[49m\u001b[38;5;241;43m/\u001b[39;49m\u001b[43mreps\u001b[49m\u001b[43m)\u001b[49m\n",
      "File \u001b[1;32m~\\anaconda3\\lib\\site-packages\\matplotlib\\pyplot.py:2757\u001b[0m, in \u001b[0;36mplot\u001b[1;34m(scalex, scaley, data, *args, **kwargs)\u001b[0m\n\u001b[0;32m   2755\u001b[0m \u001b[38;5;129m@_copy_docstring_and_deprecators\u001b[39m(Axes\u001b[38;5;241m.\u001b[39mplot)\n\u001b[0;32m   2756\u001b[0m \u001b[38;5;28;01mdef\u001b[39;00m \u001b[38;5;21mplot\u001b[39m(\u001b[38;5;241m*\u001b[39margs, scalex\u001b[38;5;241m=\u001b[39m\u001b[38;5;28;01mTrue\u001b[39;00m, scaley\u001b[38;5;241m=\u001b[39m\u001b[38;5;28;01mTrue\u001b[39;00m, data\u001b[38;5;241m=\u001b[39m\u001b[38;5;28;01mNone\u001b[39;00m, \u001b[38;5;241m*\u001b[39m\u001b[38;5;241m*\u001b[39mkwargs):\n\u001b[1;32m-> 2757\u001b[0m     \u001b[38;5;28;01mreturn\u001b[39;00m gca()\u001b[38;5;241m.\u001b[39mplot(\n\u001b[0;32m   2758\u001b[0m         \u001b[38;5;241m*\u001b[39margs, scalex\u001b[38;5;241m=\u001b[39mscalex, scaley\u001b[38;5;241m=\u001b[39mscaley,\n\u001b[0;32m   2759\u001b[0m         \u001b[38;5;241m*\u001b[39m\u001b[38;5;241m*\u001b[39m({\u001b[38;5;124m\"\u001b[39m\u001b[38;5;124mdata\u001b[39m\u001b[38;5;124m\"\u001b[39m: data} \u001b[38;5;28;01mif\u001b[39;00m data \u001b[38;5;129;01mis\u001b[39;00m \u001b[38;5;129;01mnot\u001b[39;00m \u001b[38;5;28;01mNone\u001b[39;00m \u001b[38;5;28;01melse\u001b[39;00m {}), \u001b[38;5;241m*\u001b[39m\u001b[38;5;241m*\u001b[39mkwargs)\n",
      "File \u001b[1;32m~\\anaconda3\\lib\\site-packages\\matplotlib\\axes\\_axes.py:1632\u001b[0m, in \u001b[0;36mAxes.plot\u001b[1;34m(self, scalex, scaley, data, *args, **kwargs)\u001b[0m\n\u001b[0;32m   1390\u001b[0m \u001b[38;5;250m\u001b[39m\u001b[38;5;124;03m\"\"\"\u001b[39;00m\n\u001b[0;32m   1391\u001b[0m \u001b[38;5;124;03mPlot y versus x as lines and/or markers.\u001b[39;00m\n\u001b[0;32m   1392\u001b[0m \n\u001b[1;32m   (...)\u001b[0m\n\u001b[0;32m   1629\u001b[0m \u001b[38;5;124;03m(``'green'``) or hex strings (``'#008000'``).\u001b[39;00m\n\u001b[0;32m   1630\u001b[0m \u001b[38;5;124;03m\"\"\"\u001b[39;00m\n\u001b[0;32m   1631\u001b[0m kwargs \u001b[38;5;241m=\u001b[39m cbook\u001b[38;5;241m.\u001b[39mnormalize_kwargs(kwargs, mlines\u001b[38;5;241m.\u001b[39mLine2D)\n\u001b[1;32m-> 1632\u001b[0m lines \u001b[38;5;241m=\u001b[39m [\u001b[38;5;241m*\u001b[39m\u001b[38;5;28mself\u001b[39m\u001b[38;5;241m.\u001b[39m_get_lines(\u001b[38;5;241m*\u001b[39margs, data\u001b[38;5;241m=\u001b[39mdata, \u001b[38;5;241m*\u001b[39m\u001b[38;5;241m*\u001b[39mkwargs)]\n\u001b[0;32m   1633\u001b[0m \u001b[38;5;28;01mfor\u001b[39;00m line \u001b[38;5;129;01min\u001b[39;00m lines:\n\u001b[0;32m   1634\u001b[0m     \u001b[38;5;28mself\u001b[39m\u001b[38;5;241m.\u001b[39madd_line(line)\n",
      "File \u001b[1;32m~\\anaconda3\\lib\\site-packages\\matplotlib\\axes\\_base.py:312\u001b[0m, in \u001b[0;36m_process_plot_var_args.__call__\u001b[1;34m(self, data, *args, **kwargs)\u001b[0m\n\u001b[0;32m    310\u001b[0m     this \u001b[38;5;241m+\u001b[39m\u001b[38;5;241m=\u001b[39m args[\u001b[38;5;241m0\u001b[39m],\n\u001b[0;32m    311\u001b[0m     args \u001b[38;5;241m=\u001b[39m args[\u001b[38;5;241m1\u001b[39m:]\n\u001b[1;32m--> 312\u001b[0m \u001b[38;5;28;01myield from\u001b[39;00m \u001b[38;5;28;43mself\u001b[39;49m\u001b[38;5;241;43m.\u001b[39;49m\u001b[43m_plot_args\u001b[49m\u001b[43m(\u001b[49m\u001b[43mthis\u001b[49m\u001b[43m,\u001b[49m\u001b[43m \u001b[49m\u001b[43mkwargs\u001b[49m\u001b[43m)\u001b[49m\n",
      "File \u001b[1;32m~\\anaconda3\\lib\\site-packages\\matplotlib\\axes\\_base.py:498\u001b[0m, in \u001b[0;36m_process_plot_var_args._plot_args\u001b[1;34m(self, tup, kwargs, return_kwargs)\u001b[0m\n\u001b[0;32m    495\u001b[0m     \u001b[38;5;28mself\u001b[39m\u001b[38;5;241m.\u001b[39maxes\u001b[38;5;241m.\u001b[39myaxis\u001b[38;5;241m.\u001b[39mupdate_units(y)\n\u001b[0;32m    497\u001b[0m \u001b[38;5;28;01mif\u001b[39;00m x\u001b[38;5;241m.\u001b[39mshape[\u001b[38;5;241m0\u001b[39m] \u001b[38;5;241m!=\u001b[39m y\u001b[38;5;241m.\u001b[39mshape[\u001b[38;5;241m0\u001b[39m]:\n\u001b[1;32m--> 498\u001b[0m     \u001b[38;5;28;01mraise\u001b[39;00m \u001b[38;5;167;01mValueError\u001b[39;00m(\u001b[38;5;124mf\u001b[39m\u001b[38;5;124m\"\u001b[39m\u001b[38;5;124mx and y must have same first dimension, but \u001b[39m\u001b[38;5;124m\"\u001b[39m\n\u001b[0;32m    499\u001b[0m                      \u001b[38;5;124mf\u001b[39m\u001b[38;5;124m\"\u001b[39m\u001b[38;5;124mhave shapes \u001b[39m\u001b[38;5;132;01m{\u001b[39;00mx\u001b[38;5;241m.\u001b[39mshape\u001b[38;5;132;01m}\u001b[39;00m\u001b[38;5;124m and \u001b[39m\u001b[38;5;132;01m{\u001b[39;00my\u001b[38;5;241m.\u001b[39mshape\u001b[38;5;132;01m}\u001b[39;00m\u001b[38;5;124m\"\u001b[39m)\n\u001b[0;32m    500\u001b[0m \u001b[38;5;28;01mif\u001b[39;00m x\u001b[38;5;241m.\u001b[39mndim \u001b[38;5;241m>\u001b[39m \u001b[38;5;241m2\u001b[39m \u001b[38;5;129;01mor\u001b[39;00m y\u001b[38;5;241m.\u001b[39mndim \u001b[38;5;241m>\u001b[39m \u001b[38;5;241m2\u001b[39m:\n\u001b[0;32m    501\u001b[0m     \u001b[38;5;28;01mraise\u001b[39;00m \u001b[38;5;167;01mValueError\u001b[39;00m(\u001b[38;5;124mf\u001b[39m\u001b[38;5;124m\"\u001b[39m\u001b[38;5;124mx and y can be no greater than 2D, but have \u001b[39m\u001b[38;5;124m\"\u001b[39m\n\u001b[0;32m    502\u001b[0m                      \u001b[38;5;124mf\u001b[39m\u001b[38;5;124m\"\u001b[39m\u001b[38;5;124mshapes \u001b[39m\u001b[38;5;132;01m{\u001b[39;00mx\u001b[38;5;241m.\u001b[39mshape\u001b[38;5;132;01m}\u001b[39;00m\u001b[38;5;124m and \u001b[39m\u001b[38;5;132;01m{\u001b[39;00my\u001b[38;5;241m.\u001b[39mshape\u001b[38;5;132;01m}\u001b[39;00m\u001b[38;5;124m\"\u001b[39m)\n",
      "\u001b[1;31mValueError\u001b[0m: x and y must have same first dimension, but have shapes (50,) and (1,)"
     ]
    },
    {
     "data": {
      "image/png": "[encoded data removed]",
      "text/plain": [
       "<Figure size 432x288 with 1 Axes>"
      ]
     },
     "metadata": {
      "needs_background": "light"
     },
     "output_type": "display_data"
    }
   ],
   "source": [
    "#probability of winning as a function of M and N\n",
    "M_lin = np.linspace(0, N-2)\n",
    "plt.plot(M_lin, wins_cons/reps);"
   ]
  },
  {
   "cell_type": "code",
   "execution_count": 47,
   "id": "52394f8d",
   "metadata": {},
   "outputs": [
    {
     "name": "stdout",
     "output_type": "stream",
     "text": [
      "414 out of 10000\n",
      "4.14%\n"
     ]
    }
   ],
   "source": [
    "#SWITCHER\n",
    "reps = 10000\n",
    "wins_swi = 0\n",
    "\n",
    "for _ in range(reps):\n",
    "    N = 100\n",
    "    M = rm.randint(0, N - 2)\n",
    "\n",
    "    Doors = np.zeros(shape=N)\n",
    "    #Opened = np.zeros(shape=M)\n",
    "    #print(M)\n",
    "    Doors[0] = 1\n",
    "    for i in range(N-1):\n",
    "        Doors[i+1] = 0\n",
    "    rm.shuffle(Doors)\n",
    "    #print(Doors)\n",
    "\n",
    "    choice_swi = rm.choice(Doors)\n",
    "    #print(choice_cons)\n",
    "\n",
    "    for _ in range(M):\n",
    "        for i in range(N):\n",
    "            if Doors[i] == 0:\n",
    "                Doors = np.concatenate((Doors[:i], Doors[i+1:]))\n",
    "                break\n",
    "            elif Doors[i] == 1:\n",
    "                continue\n",
    "    #print(Doors)\n",
    "    choice_swi = rm.choice(Doors)\n",
    "\n",
    "    if choice_swi == 1:\n",
    "        #print('Win')\n",
    "        wins_swi = wins_swi + 1\n",
    "    #elif choice_cons == 0:\n",
    "        #print('Loss')\n",
    "\n",
    "print(str(wins_swi) + \" \" 'out of' \" \" + str(reps))\n",
    "print(f'{(wins_swi / reps) * 100}%')"
   ]
  },
  {
   "cell_type": "code",
   "execution_count": 45,
   "id": "47781762",
   "metadata": {},
   "outputs": [
    {
     "name": "stdout",
     "output_type": "stream",
     "text": [
      "415 out of 10000\n",
      "4.15%\n"
     ]
    }
   ],
   "source": [
    "#NEWCOMER\n",
    "reps = 10000\n",
    "wins_new = 0\n",
    "\n",
    "for _ in range(reps):\n",
    "    N = 100\n",
    "    M = rm.randint(0, N - 2)\n",
    "\n",
    "    Doors = np.zeros(shape=N)\n",
    "    #Opened = np.zeros(shape=M)\n",
    "    #print(M)\n",
    "    Doors[0] = 1\n",
    "    for i in range(N-1):\n",
    "        Doors[i+1] = 0\n",
    "    rm.shuffle(Doors)\n",
    "    #print(Doors)\n",
    "\n",
    "    for _ in range(M):\n",
    "        for i in range(N):\n",
    "            if Doors[i] == 0:\n",
    "                Doors = np.concatenate((Doors[:i], Doors[i+1:]))\n",
    "                break\n",
    "            elif Doors[i] == 1:\n",
    "                continue\n",
    "    #print(Doors)\n",
    "    choice_new = rm.choice(Doors)\n",
    "\n",
    "    if choice_new == 1:\n",
    "        #print('Win')\n",
    "        wins_new = wins_new + 1\n",
    "    #elif choice_cons == 0:\n",
    "        #print('Loss')\n",
    "\n",
    "print(str(wins_new) + \" \" 'out of' \" \" + str(reps))\n",
    "print(f'{(wins_new / reps) * 100}%')"
   ]
  },
  {
   "cell_type": "code",
   "execution_count": null,
   "id": "2db0a20f",
   "metadata": {},
   "outputs": [],
   "source": []
  }
 ],
 "metadata": {
  "kernelspec": {
   "display_name": "Python 3 (ipykernel)",
   "language": "python",
   "name": "python3"
  },
  "language_info": {
   "codemirror_mode": {
    "name": "ipython",
    "version": 3
   },
   "file_extension": ".py",
   "mimetype": "text/x-python",
   "name": "python",
   "nbconvert_exporter": "python",
   "pygments_lexer": "ipython3",
   "version": "3.9.12"
  }
 },
 "nbformat": 4,
 "nbformat_minor": 5
}
