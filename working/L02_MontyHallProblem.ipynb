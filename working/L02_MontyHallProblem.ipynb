{
 "cells": [
  {
   "cell_type": "markdown",
   "id": "caf4b09f",
   "metadata": {},
   "source": [
    "# Simulation of the Monty Hall Problem"
   ]
  },
  {
   "cell_type": "code",
   "execution_count": 1,
   "id": "4c810df4",
   "metadata": {},
   "outputs": [],
   "source": [
    "import random as rm\n",
    "import numpy as np\n",
    "import matplotlib.pyplot as plt"
   ]
  },
  {
   "cell_type": "markdown",
   "id": "5ec3e34c",
   "metadata": {},
   "source": [
    "I define a function with three doors, in which two of them are empty and one has a prize. This for three types of players:\n",
    "- the **switcher**, who choose a door and change it after the presenter open an empty door\n",
    "- the **conservative**, who mantain the first choice all the game\n",
    "- the **newcomer**, who choose the first door after the presenter already opened an empty door"
   ]
  },
  {
   "cell_type": "code",
   "execution_count": 2,
   "id": "f46ada7e",
   "metadata": {},
   "outputs": [],
   "source": [
    "def monty_hall(player, reps):\n",
    "    \n",
    "    wins = 0\n",
    "    \n",
    "    for _ in range(reps):\n",
    "        \n",
    "        doors = [0,0,0]\n",
    "        prize = rm.randint(0,2)\n",
    "        doors[prize] = 1\n",
    "        \n",
    "        choice = rm.randint(0,2)\n",
    "        \n",
    "        doors_left = [i for i in range(3) if i != choice and doors[i] == 0]\n",
    "        opening_door = rm.choice(doors_left)\n",
    "        \n",
    "        if player == 'switcher':\n",
    "            new_choice = [i for i in range(3) if i != choice and i != opening_door][0]\n",
    "            final_choice = new_choice\n",
    "        elif player == 'conservative':\n",
    "            final_choice = choice\n",
    "        elif player == 'newcomer':\n",
    "            pick = rm.choice([i for i in range(3) if i != opening_door])\n",
    "            final_choice = pick\n",
    "            \n",
    "        if doors[final_choice] == 1:\n",
    "            wins += 1\n",
    "    \n",
    "    return wins/reps"
   ]
  },
  {
   "cell_type": "code",
   "execution_count": 3,
   "id": "1135348d",
   "metadata": {},
   "outputs": [
    {
     "name": "stdout",
     "output_type": "stream",
     "text": [
      "The probability winning of a newcomer player is 48.0%\n",
      "The probability winning of a switcher player is 66.0%\n",
      "The probability winning of a conservative player is 44.0%\n"
     ]
    }
   ],
   "source": [
    "result_new = monty_hall('newcomer', 100)\n",
    "print('The probability winning of a newcomer player is ' + str(result_new*100) + '%')\n",
    "result_swi = monty_hall('switcher', 100)\n",
    "print('The probability winning of a switcher player is ' + str(result_swi*100) + '%')\n",
    "result_cons = monty_hall('conservative', 100)\n",
    "print('The probability winning of a conservative player is ' + str(result_cons*100) + '%')"
   ]
  },
  {
   "cell_type": "markdown",
   "id": "45f190b1",
   "metadata": {},
   "source": [
    "The player who has the most probability of winning is the switcher player."
   ]
  },
  {
   "cell_type": "markdown",
   "id": "25eea9e8",
   "metadata": {},
   "source": [
    "Here i define a function in the case of $N$ doors to choose from and $M <= N - 2$ of them are opened by the presenter."
   ]
  },
  {
   "cell_type": "code",
   "execution_count": 4,
   "id": "5b8c7907",
   "metadata": {},
   "outputs": [],
   "source": [
    "def monty_hall_NM(player, N, M, reps):\n",
    "    \n",
    "    wins = 0\n",
    "    \n",
    "    for _ in range(reps):\n",
    "        \n",
    "        doors = [0] * N\n",
    "        prize = rm.randint(0, N-1)\n",
    "        doors[prize] = 1\n",
    "        \n",
    "        choice = rm.randint(0, N-1)\n",
    "        \n",
    "        doors_left = [i for i in range(N) if i != choice and doors[i] == 0]\n",
    "    \n",
    "        opening_doors = rm.sample(doors_left, M)\n",
    "        \n",
    "        if player == 'switcher':\n",
    "            new_choice = [i for i in range(N) if i != choice and i not in opening_doors]\n",
    "            final_choice = rm.choice(new_choice)\n",
    "        elif player == 'conservative':\n",
    "            final_choice = choice\n",
    "        elif player == 'newcomer':\n",
    "            new_choice = [i for i in range(N) if i not in opening_doors]\n",
    "            final_choice = rm.choice(new_choice)\n",
    "        \n",
    "        if doors[final_choice] == 1:\n",
    "            wins += 1\n",
    "\n",
    "    return wins/reps\n"
   ]
  },
  {
   "cell_type": "markdown",
   "id": "a17f9ab9",
   "metadata": {},
   "source": [
    "For $N = 100$ and $M = 98$:"
   ]
  },
  {
   "cell_type": "code",
   "execution_count": 6,
   "id": "b3a9e598",
   "metadata": {},
   "outputs": [
    {
     "name": "stdout",
     "output_type": "stream",
     "text": [
      "The winning probability of a newcomer player is 49.37%\n",
      "The winning probability of a switcher player is 98.95%\n",
      "The winning probability of a conservative player is 0.94%\n"
     ]
    }
   ],
   "source": [
    "result_new = monty_hall_NM('newcomer', 100, 98, 10000)\n",
    "print(f'The winning probability of a newcomer player is {result_new*100:.2f}%')\n",
    "result_swi = monty_hall_NM('switcher', 100, 98, 10000)\n",
    "print(f'The winning probability of a switcher player is {result_swi*100:.2f}%')\n",
    "result_cons = monty_hall_NM('conservative', 100, 98, 10000)\n",
    "print(f'The winning probability of a conservative player is {result_cons*100:.2f}%')"
   ]
  },
  {
   "cell_type": "markdown",
   "id": "a7b92342",
   "metadata": {},
   "source": [
    "For $N = 200$ and $M = 198$:"
   ]
  },
  {
   "cell_type": "code",
   "execution_count": 7,
   "id": "5f715d4b",
   "metadata": {},
   "outputs": [
    {
     "name": "stdout",
     "output_type": "stream",
     "text": [
      "The winning probability of a newcomer player is 50.20%\n",
      "The winning probability of a switcher player is 99.48%\n",
      "The winning probability of a conservative player is 0.54%\n"
     ]
    }
   ],
   "source": [
    "result_new = monty_hall_NM('newcomer', 200, 198, 10000)\n",
    "print(f'The winning probability of a newcomer player is {result_new*100:.2f}%')\n",
    "result_swi = monty_hall_NM('switcher', 200, 198, 10000)\n",
    "print(f'The winning probability of a switcher player is {result_swi*100:.2f}%')\n",
    "result_cons = monty_hall_NM('conservative', 200, 198, 10000)\n",
    "print(f'The winning probability of a conservative player is {result_cons*100:.2f}%')"
   ]
  },
  {
   "cell_type": "markdown",
   "id": "e9737024",
   "metadata": {},
   "source": [
    "I can explore how the probability of winning goes as a function as $M$ and $N$."
   ]
  },
  {
   "cell_type": "code",
   "execution_count": 8,
   "id": "a9778430",
   "metadata": {},
   "outputs": [],
   "source": [
    "player = 'newcomer'\n",
    "N_lin = np.arange(3, 101, 5)\n",
    "M_lin = np.arange(1, 99, 5)\n",
    "\n",
    "results = np.zeros((len(N_lin), len(M_lin)))\n",
    "\n",
    "for i,N in enumerate(N_lin):\n",
    "    for j,M in enumerate(M_lin):\n",
    "        if M <= N-2:\n",
    "            results[i,j] = monty_hall_NM(player, N, M, 1000)"
   ]
  },
  {
   "cell_type": "code",
   "execution_count": 12,
   "id": "00f2cdf8",
   "metadata": {
    "scrolled": false
   },
   "outputs": [
    {
     "data": {
      "image/png": "[encoded data removed]",
      "text/plain": [
       "<Figure size 1008x432 with 2 Axes>"
      ]
     },
     "metadata": {
      "needs_background": "light"
     },
     "output_type": "display_data"
    }
   ],
   "source": [
    "plt.figure(figsize=(14, 6))\n",
    "\n",
    "plt.plot()\n",
    "plt.title(f\"Winning probability if %s player\" % (player))\n",
    "plt.xlabel(\"M\")\n",
    "plt.ylabel(\"N\")\n",
    "plt.imshow(results, origin='lower', aspect='auto', extent=[min(M_lin), max(M_lin), min(N_lin), max(N_lin)], cmap='viridis')\n",
    "plt.colorbar(label=\"Probability\")\n",
    "plt.xticks(M_lin)\n",
    "plt.yticks(N_lin);"
   ]
  },
  {
   "cell_type": "markdown",
   "id": "fbc7fd13",
   "metadata": {},
   "source": [
    "For the newcomer player, i can see that the probability of winning is about constant for an increasing number of doors and opened doors."
   ]
  },
  {
   "cell_type": "code",
   "execution_count": 14,
   "id": "6906c612",
   "metadata": {},
   "outputs": [],
   "source": [
    "player = 'switcher'\n",
    "N_lin = np.arange(3, 101, 5)\n",
    "M_lin = np.arange(1, 99, 5)\n",
    "\n",
    "results = np.zeros((len(N_lin), len(M_lin)))\n",
    "\n",
    "for i,N in enumerate(N_lin):\n",
    "    for j,M in enumerate(M_lin):\n",
    "        if M <= N-2:\n",
    "            results[i,j] = monty_hall_NM(player, N, M, 1000)"
   ]
  },
  {
   "cell_type": "code",
   "execution_count": 15,
   "id": "0bfd1f24",
   "metadata": {},
   "outputs": [
    {
     "data": {
      "image/png": "[encoded data removed]",
      "text/plain": [
       "<Figure size 1008x432 with 2 Axes>"
      ]
     },
     "metadata": {
      "needs_background": "light"
     },
     "output_type": "display_data"
    }
   ],
   "source": [
    "plt.figure(figsize=(14, 6))\n",
    "\n",
    "plt.plot()\n",
    "plt.title(f\"Winning probability if %s player\" % (player))\n",
    "plt.xlabel(\"M\")\n",
    "plt.ylabel(\"N\")\n",
    "plt.imshow(results, origin='lower', aspect='auto', extent=[min(M_lin), max(M_lin), min(N_lin), max(N_lin)], cmap='viridis')\n",
    "plt.colorbar(label=\"Probability\")\n",
    "plt.xticks(M_lin)\n",
    "plt.yticks(N_lin);"
   ]
  },
  {
   "cell_type": "markdown",
   "id": "f5eca31e",
   "metadata": {},
   "source": [
    "For a switcher player instead, i can see that increasing the number of doors and opened doors increases also the probability of winning."
   ]
  },
  {
   "cell_type": "code",
   "execution_count": 16,
   "id": "d31db445",
   "metadata": {},
   "outputs": [],
   "source": [
    "player = 'conservative'\n",
    "N_lin = np.arange(3, 101, 5)\n",
    "M_lin = np.arange(1, 99, 5)\n",
    "\n",
    "results = np.zeros((len(N_lin), len(M_lin)))\n",
    "\n",
    "for i,N in enumerate(N_lin):\n",
    "    for j,M in enumerate(M_lin):\n",
    "        if M <= N-2:\n",
    "            results[i,j] = monty_hall_NM(player, N, M, 1000)"
   ]
  },
  {
   "cell_type": "code",
   "execution_count": 17,
   "id": "3368e9a1",
   "metadata": {},
   "outputs": [
    {
     "data": {
      "image/png": "[encoded data removed]",
      "text/plain": [
       "<Figure size 1008x432 with 2 Axes>"
      ]
     },
     "metadata": {
      "needs_background": "light"
     },
     "output_type": "display_data"
    }
   ],
   "source": [
    "plt.figure(figsize=(14, 6))\n",
    "\n",
    "plt.plot()\n",
    "plt.title(f\"Winning probability if %s player\" % (player))\n",
    "plt.xlabel(\"M\")\n",
    "plt.ylabel(\"N\")\n",
    "plt.imshow(results, origin='lower', aspect='auto', extent=[min(M_lin), max(M_lin), min(N_lin), max(N_lin)], cmap='viridis')\n",
    "plt.colorbar(label=\"Probability\")\n",
    "plt.xticks(M_lin)\n",
    "plt.yticks(N_lin);"
   ]
  },
  {
   "cell_type": "markdown",
   "id": "52fbfa82",
   "metadata": {},
   "source": [
    "For a conservative player, the probability of winning drastically decreases with an increasing number of doors and opened doors."
   ]
  },
  {
   "cell_type": "code",
   "execution_count": null,
   "id": "4684f9a4",
   "metadata": {},
   "outputs": [],
   "source": []
  }
 ],
 "metadata": {
  "kernelspec": {
   "display_name": "Python 3 (ipykernel)",
   "language": "python",
   "name": "python3"
  },
  "language_info": {
   "codemirror_mode": {
    "name": "ipython",
    "version": 3
   },
   "file_extension": ".py",
   "mimetype": "text/x-python",
   "name": "python",
   "nbconvert_exporter": "python",
   "pygments_lexer": "ipython3",
   "version": "3.9.12"
  }
 },
 "nbformat": 4,
 "nbformat_minor": 5
}
